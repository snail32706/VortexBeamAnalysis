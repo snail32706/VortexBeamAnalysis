{
 "cells": [
  {
   "cell_type": "code",
   "execution_count": 1,
   "id": "c4261a74",
   "metadata": {},
   "outputs": [],
   "source": [
    "import numpy as np\n",
    "import matplotlib\n",
    "import matplotlib.pyplot as plt\n",
    "import matplotlib.ticker as plt_ticker\n",
    "from matplotlib.colors import LogNorm\n",
    "from matplotlib.colors import LinearSegmentedColormap\n",
    "from mpl_toolkits.mplot3d import Axes3D\n",
    "import pandas as pd\n",
    "import cv2 \n",
    "from PIL import Image\n",
    "# from scipy.misc import electrocardiogram\n",
    "from scipy.signal import find_peaks\n",
    "from scipy.optimize import curve_fit\n",
    "import heapq\n",
    "import tkinter as tk"
   ]
  },
  {
   "cell_type": "code",
   "execution_count": 2,
   "id": "a81f349b",
   "metadata": {},
   "outputs": [],
   "source": [
    "import FFT as FFTfunc\n",
    "onedrivePath = '/Users/k.y.chen/Library/CloudStorage/OneDrive-國立陽明交通大學/文件/交大電物/實驗室/7. 實驗 Data/'\n"
   ]
  },
  {
   "cell_type": "code",
   "execution_count": 8,
   "id": "08f67535",
   "metadata": {},
   "outputs": [
    {
     "name": "stderr",
     "output_type": "stream",
     "text": [
      "Clipping input data to the valid range for imshow with RGB data ([0..1] for floats or [0..255] for integers).\n"
     ]
    },
    {
     "name": "stdout",
     "output_type": "stream",
     "text": [
      "<class 'numpy.ndarray'>\n"
     ]
    },
    {
     "data": {
      "image/png": "[encoded data removed]",
      "text/plain": [
       "<Figure size 1000x800 with 1 Axes>"
      ]
     },
     "metadata": {},
     "output_type": "display_data"
    }
   ],
   "source": [
    "def test_cv(file):\n",
    "\n",
    "    img = cv2.imread(file, 0)\n",
    "\n",
    "    # 預處理\n",
    "    img = cv2.medianBlur(img, 5)\n",
    "    cimg = cv2.cvtColor(img, cv2.COLOR_GRAY2BGR)\n",
    "\n",
    "#     檢測圓形\n",
    "    circles = cv2.HoughCircles(img, cv2.HOUGH_GRADIENT, 1, 20, param1=50, param2=30, minRadius=0, maxRadius=0)\n",
    "\n",
    "    # 將圓形畫在圖片上\n",
    "    circles = np.uint16(np.around(circles))\n",
    "    for i in circles[0, :]:\n",
    "        # 畫出圓形\n",
    "        cv2.circle(cimg, (i[0], i[1]), i[2], (0, 255, 0), 2)\n",
    "        # 畫出圓心\n",
    "        cv2.circle(cimg, (i[0], i[1]), 2, (0, 0, 255), 3)\n",
    "\n",
    "    # 顯示圖片\n",
    "    cv2.imshow('detected circles', cimg)\n",
    "    cv2.waitKey(0)\n",
    "    cv2.destroyAllWindows()\n",
    "\n",
    "test_cv(onedrivePath + f'20230413 SEM/AP/18.tif')"
   ]
  },
  {
   "cell_type": "code",
   "execution_count": null,
   "id": "d0a479e7",
   "metadata": {},
   "outputs": [],
   "source": [
    "# 讀取圖片\n",
    "img = cv2.imread('image.jpg', 0)\n",
    "\n",
    "# 預處理\n",
    "img = cv2.medianBlur(img, 5)\n",
    "cimg = cv2.cvtColor(img, cv2.COLOR_GRAY2BGR)\n",
    "\n",
    "# 檢測圓形\n",
    "circles = cv2.HoughCircles(img, cv2.HOUGH_GRADIENT, 1, 20, param1=50, param2=30, minRadius=0, maxRadius=0)\n",
    "\n",
    "# 將圓形畫在圖片上\n",
    "circles = np.uint16(np.around(circles))\n",
    "for i in circles[0, :]:\n",
    "    # 畫出圓形\n",
    "    cv2.circle(cimg, (i[0], i[1]), i[2], (0, 255, 0), 2)\n",
    "    # 畫出圓心\n",
    "    cv2.circle(cimg, (i[0], i[1]), 2, (0, 0, 255), 3)\n",
    "\n",
    "# 顯示圖片\n",
    "cv2.imshow('detected circles', cimg)\n",
    "cv2.waitKey(0)\n",
    "cv2.destroyAllWindows()"
   ]
  }
 ],
 "metadata": {
  "kernelspec": {
   "display_name": "Python 3 (ipykernel)",
   "language": "python",
   "name": "python3"
  },
  "language_info": {
   "codemirror_mode": {
    "name": "ipython",
    "version": 3
   },
   "file_extension": ".py",
   "mimetype": "text/x-python",
   "name": "python",
   "nbconvert_exporter": "python",
   "pygments_lexer": "ipython3",
   "version": "3.10.8"
  }
 },
 "nbformat": 4,
 "nbformat_minor": 5
}
